{
  "nbformat": 4,
  "nbformat_minor": 0,
  "metadata": {
    "colab": {
      "name": "model.ipynb",
      "provenance": [],
      "toc_visible": true,
      "mount_file_id": "1HicDJabC0xM8ihJjGDEK8NLIcWrq9hkk",
      "authorship_tag": "ABX9TyNBai8RdzZuqMxPiAy3gqhA",
      "include_colab_link": true
    },
    "kernelspec": {
      "name": "python3",
      "display_name": "Python 3"
    },
    "accelerator": "GPU"
  },
  "cells": [
    {
      "cell_type": "markdown",
      "metadata": {
        "id": "view-in-github",
        "colab_type": "text"
      },
      "source": [
        "<a href=\"https://colab.research.google.com/github/ksdkamesh99/LowLightEnhancer/blob/master/model.ipynb\" target=\"_parent\"><img src=\"https://colab.research.google.com/assets/colab-badge.svg\" alt=\"Open In Colab\"/></a>"
      ]
    },
    {
      "cell_type": "code",
      "metadata": {
        "id": "a_YnKk4fWmVm",
        "outputId": "4c62b482-2706-4fb7-ab4f-272ce2fe2727",
        "colab": {
          "base_uri": "https://localhost:8080/",
          "height": 34
        }
      },
      "source": [
        "cd /content/drive/My Drive/LowLightEnhancement"
      ],
      "execution_count": 31,
      "outputs": [
        {
          "output_type": "stream",
          "text": [
            "/content/drive/My Drive/LowLightEnhancement\n"
          ],
          "name": "stdout"
        }
      ]
    },
    {
      "cell_type": "code",
      "metadata": {
        "id": "vpHqtxxCV2pg"
      },
      "source": [
        "import tensorflow as tf\n",
        "import numpy as np\n",
        "from PIL import Image"
      ],
      "execution_count": 32,
      "outputs": []
    },
    {
      "cell_type": "code",
      "metadata": {
        "id": "5GKNxTenWMe9"
      },
      "source": [
        "img_high=np.load(\"image_high.npy\")"
      ],
      "execution_count": 33,
      "outputs": []
    },
    {
      "cell_type": "code",
      "metadata": {
        "id": "QK5SsO8AWwrF"
      },
      "source": [
        "img_low=np.load(\"image_low.npy\")"
      ],
      "execution_count": 34,
      "outputs": []
    },
    {
      "cell_type": "code",
      "metadata": {
        "id": "tM8PD-nLW2V8",
        "outputId": "aa31479c-b29b-4b70-98d1-b7e69600edc4",
        "colab": {
          "base_uri": "https://localhost:8080/",
          "height": 34
        }
      },
      "source": [
        "img_high.shape"
      ],
      "execution_count": 35,
      "outputs": [
        {
          "output_type": "execute_result",
          "data": {
            "text/plain": [
              "(1485, 150, 150, 3)"
            ]
          },
          "metadata": {
            "tags": []
          },
          "execution_count": 35
        }
      ]
    },
    {
      "cell_type": "markdown",
      "metadata": {
        "id": "QDic1QdxbVx3"
      },
      "source": [
        "## Illumination Mask Network"
      ]
    },
    {
      "cell_type": "code",
      "metadata": {
        "id": "Fp6MQbewW6yg"
      },
      "source": [
        "top_inp=tf.keras.layers.Input(shape=(150,150,3))\n",
        "top=tf.keras.layers.Conv2D(64,kernel_size=(3,3),input_shape=(150,150,3),activation='relu')(top_inp)\n",
        "top=tf.keras.layers.Conv2D(64,kernel_size=(3,3),activation='relu')(top)"
      ],
      "execution_count": 36,
      "outputs": []
    },
    {
      "cell_type": "code",
      "metadata": {
        "id": "WFrTH7Voeoa1"
      },
      "source": [
        "bottom_inp=tf.keras.layers.Input(shape=(150,150,3))\n",
        "bottom_resize=tf.keras.layers.Lambda( \n",
        "    lambda image: tf.compat.v1.image.resize_nearest_neighbor( \n",
        "        image, \n",
        "        (224, 224)\n",
        "    )\n",
        ")(bottom_inp)\n"
      ],
      "execution_count": 37,
      "outputs": []
    },
    {
      "cell_type": "code",
      "metadata": {
        "id": "wFYVu3v5euM0"
      },
      "source": [
        "bottom=tf.keras.layers.Conv2D(64,kernel_size=(3,3),input_shape=(224,224,3),activation='relu')(bottom_resize)\n",
        "bottom=tf.keras.layers.Conv2D(64,kernel_size=(3,3),activation='relu')(bottom)\n",
        "bottom=tf.keras.layers.Conv2D(64,kernel_size=(3,3),activation='relu')(bottom)\n",
        "bottom=tf.keras.layers.Lambda( \n",
        "    lambda image: tf.compat.v1.image.resize_nearest_neighbor( \n",
        "        image, \n",
        "        (146,146)\n",
        "    )\n",
        ")(bottom)"
      ],
      "execution_count": 38,
      "outputs": []
    },
    {
      "cell_type": "code",
      "metadata": {
        "id": "UysJ2KJ6hYNz",
        "outputId": "decbb98b-7c6f-4c82-e585-5c6ff3092362",
        "colab": {
          "base_uri": "https://localhost:8080/",
          "height": 34
        }
      },
      "source": [
        "bottom.get_shape()"
      ],
      "execution_count": 39,
      "outputs": [
        {
          "output_type": "execute_result",
          "data": {
            "text/plain": [
              "TensorShape([None, 146, 146, 64])"
            ]
          },
          "metadata": {
            "tags": []
          },
          "execution_count": 39
        }
      ]
    },
    {
      "cell_type": "code",
      "metadata": {
        "id": "-oBklAH3iLBT",
        "outputId": "1d4a1829-d339-4f79-9265-bf1ac3da7d37",
        "colab": {
          "base_uri": "https://localhost:8080/",
          "height": 34
        }
      },
      "source": [
        "top.get_shape()"
      ],
      "execution_count": 40,
      "outputs": [
        {
          "output_type": "execute_result",
          "data": {
            "text/plain": [
              "TensorShape([None, 146, 146, 64])"
            ]
          },
          "metadata": {
            "tags": []
          },
          "execution_count": 40
        }
      ]
    },
    {
      "cell_type": "code",
      "metadata": {
        "id": "xE9AeLqLiNjq"
      },
      "source": [
        "merged=tf.keras.layers.concatenate([top,bottom],axis=-1)"
      ],
      "execution_count": 41,
      "outputs": []
    },
    {
      "cell_type": "code",
      "metadata": {
        "id": "8bUMJqgmi06Y"
      },
      "source": [
        "merged=tf.keras.layers.Conv2D(64,kernel_size=(3,3),activation='relu')(merged)\n",
        "merged=tf.keras.layers.Conv2D(16,kernel_size=(3,3),activation='relu')(merged)\n",
        "merged=tf.keras.layers.Conv2D(3,kernel_size=(3,3),activation='relu')(merged)"
      ],
      "execution_count": 42,
      "outputs": []
    },
    {
      "cell_type": "code",
      "metadata": {
        "id": "YfLuYpLSi2Bb",
        "outputId": "65fb743b-644c-41a8-eae8-6deeb0c5ce4e",
        "colab": {
          "base_uri": "https://localhost:8080/",
          "height": 34
        }
      },
      "source": [
        "merged.get_shape()"
      ],
      "execution_count": 43,
      "outputs": [
        {
          "output_type": "execute_result",
          "data": {
            "text/plain": [
              "TensorShape([None, 140, 140, 3])"
            ]
          },
          "metadata": {
            "tags": []
          },
          "execution_count": 43
        }
      ]
    },
    {
      "cell_type": "code",
      "metadata": {
        "id": "0KISCHprjQ0_"
      },
      "source": [
        "model_illumination_mask=tf.keras.models.Model(inputs=[top_inp,bottom_inp],outputs=merged)"
      ],
      "execution_count": 44,
      "outputs": []
    },
    {
      "cell_type": "code",
      "metadata": {
        "id": "ZVr8vme_jY6m",
        "outputId": "ea6a07f5-ed35-40f2-8574-42611906e460",
        "colab": {
          "base_uri": "https://localhost:8080/",
          "height": 605
        }
      },
      "source": [
        "model_illumination_mask.summary()"
      ],
      "execution_count": 45,
      "outputs": [
        {
          "output_type": "stream",
          "text": [
            "Model: \"functional_3\"\n",
            "__________________________________________________________________________________________________\n",
            "Layer (type)                    Output Shape         Param #     Connected to                     \n",
            "==================================================================================================\n",
            "input_4 (InputLayer)            [(None, 150, 150, 3) 0                                            \n",
            "__________________________________________________________________________________________________\n",
            "lambda_34 (Lambda)              (None, 224, 224, 3)  0           input_4[0][0]                    \n",
            "__________________________________________________________________________________________________\n",
            "conv2d_28 (Conv2D)              (None, 222, 222, 64) 1792        lambda_34[0][0]                  \n",
            "__________________________________________________________________________________________________\n",
            "input_3 (InputLayer)            [(None, 150, 150, 3) 0                                            \n",
            "__________________________________________________________________________________________________\n",
            "conv2d_29 (Conv2D)              (None, 220, 220, 64) 36928       conv2d_28[0][0]                  \n",
            "__________________________________________________________________________________________________\n",
            "conv2d_26 (Conv2D)              (None, 148, 148, 64) 1792        input_3[0][0]                    \n",
            "__________________________________________________________________________________________________\n",
            "conv2d_30 (Conv2D)              (None, 218, 218, 64) 36928       conv2d_29[0][0]                  \n",
            "__________________________________________________________________________________________________\n",
            "conv2d_27 (Conv2D)              (None, 146, 146, 64) 36928       conv2d_26[0][0]                  \n",
            "__________________________________________________________________________________________________\n",
            "lambda_35 (Lambda)              (None, 146, 146, 64) 0           conv2d_30[0][0]                  \n",
            "__________________________________________________________________________________________________\n",
            "concatenate_6 (Concatenate)     (None, 146, 146, 128 0           conv2d_27[0][0]                  \n",
            "                                                                 lambda_35[0][0]                  \n",
            "__________________________________________________________________________________________________\n",
            "conv2d_31 (Conv2D)              (None, 144, 144, 64) 73792       concatenate_6[0][0]              \n",
            "__________________________________________________________________________________________________\n",
            "conv2d_32 (Conv2D)              (None, 142, 142, 16) 9232        conv2d_31[0][0]                  \n",
            "__________________________________________________________________________________________________\n",
            "conv2d_33 (Conv2D)              (None, 140, 140, 3)  435         conv2d_32[0][0]                  \n",
            "==================================================================================================\n",
            "Total params: 197,827\n",
            "Trainable params: 197,827\n",
            "Non-trainable params: 0\n",
            "__________________________________________________________________________________________________\n"
          ],
          "name": "stdout"
        }
      ]
    },
    {
      "cell_type": "markdown",
      "metadata": {
        "id": "vMmClQsdb1Os"
      },
      "source": [
        "# Illumination Map "
      ]
    },
    {
      "cell_type": "code",
      "metadata": {
        "id": "WqrZuRtCkT5E"
      },
      "source": [
        "merged=tf.keras.layers.Lambda( \n",
        "    lambda image: tf.compat.v1.image.resize_nearest_neighbor( \n",
        "        image,\n",
        "        (150,150)\n",
        "    )\n",
        ")(merged)"
      ],
      "execution_count": 46,
      "outputs": []
    },
    {
      "cell_type": "code",
      "metadata": {
        "id": "wsy6Q8eKflRV",
        "outputId": "745141ce-b703-4274-afea-79bc6458a6f7",
        "colab": {
          "base_uri": "https://localhost:8080/",
          "height": 34
        }
      },
      "source": [
        "merged.get_shape"
      ],
      "execution_count": 47,
      "outputs": [
        {
          "output_type": "execute_result",
          "data": {
            "text/plain": [
              "<bound method Tensor.get_shape of <tf.Tensor 'lambda_36/ResizeNearestNeighbor:0' shape=(None, 150, 150, 3) dtype=float32>>"
            ]
          },
          "metadata": {
            "tags": []
          },
          "execution_count": 47
        }
      ]
    },
    {
      "cell_type": "code",
      "metadata": {
        "id": "Ji0GvexEjmey"
      },
      "source": [
        "def ieb(input_feature):\n",
        "  ieb1=tf.keras.layers.Conv2D(64,kernel_size=(3,3),activation='relu')(input_feature)\n",
        "  ieb1=tf.keras.layers.Conv2D(64,kernel_size=(3,3),activation='relu')(ieb1)\n",
        "  max_pool=tf.keras.layers.GlobalMaxPooling2D()(ieb1)\n",
        "  avg_pool=tf.keras.layers.GlobalAveragePooling2D()(ieb1)\n",
        "  dense1=tf.keras.layers.Dense(8,activation='relu',kernel_initializer='he_normal')\n",
        "  dense2=tf.keras.layers.Dense(64,activation='sigmoid',kernel_initializer='he_normal')\n",
        "  max_pool=dense1(max_pool)\n",
        "  max_pool=dense2(max_pool)\n",
        "  avg_pool=dense1(avg_pool)\n",
        "  avg_pool=dense2(avg_pool)\n",
        "  max_pool=tf.keras.layers.Lambda(\n",
        "    lambda image: tf.expand_dims(tf.expand_dims(image,axis=1),axis=1))(max_pool)\n",
        "  avg_pool=tf.keras.layers.Lambda(\n",
        "    lambda image: tf.expand_dims(tf.expand_dims(image,axis=1),axis=1))(avg_pool)\n",
        "  channel=tf.keras.layers.Add()([max_pool,avg_pool])\n",
        "  ieb1=tf.keras.layers.Multiply()([ieb1,channel])\n",
        "  max_pool_s=tf.keras.layers.Lambda(\n",
        "    lambda x: tf.keras.backend.max(x,axis=3,keepdims=True))(ieb1)\n",
        "  avg_pool_s=tf.keras.layers.Lambda(\n",
        "    lambda x: tf.keras.backend.mean(x,axis=3,keepdims=True))(ieb1)\n",
        "  concat_slayers=tf.keras.layers.Concatenate(axis=3)([avg_pool_s,max_pool_s])\n",
        "  spacial=tf.keras.layers.Conv2D(1,7,activation='sigmoid')(concat_slayers)\n",
        "  spacial=tf.keras.layers.Lambda( \n",
        "    lambda image: tf.compat.v1.image.resize_nearest_neighbor( \n",
        "        image, \n",
        "        (146,146)\n",
        "    ))(spacial)\n",
        "  ieb1=tf.keras.layers.Multiply()([ieb1,spacial])\n",
        "  ieb1=tf.keras.layers.BatchNormalization()(ieb1)\n",
        "  ieb1=tf.keras.layers.Activation('relu')(ieb1)\n",
        "  ieb1=tf.keras.layers.Lambda(\n",
        "    lambda image: tf.compat.v1.image.resize_nearest_neighbor(image,(150,150)))(ieb1)\n",
        "  return ieb1\n",
        "\n",
        "\n",
        "  \n",
        "\n"
      ],
      "execution_count": 48,
      "outputs": []
    },
    {
      "cell_type": "code",
      "metadata": {
        "id": "60ZDXV1qn3dx"
      },
      "source": [
        "ieb_1=ieb(merged)"
      ],
      "execution_count": 49,
      "outputs": []
    },
    {
      "cell_type": "code",
      "metadata": {
        "id": "_om_rsynoISE"
      },
      "source": [
        "ieb_2=ieb(ieb_1)"
      ],
      "execution_count": 50,
      "outputs": []
    },
    {
      "cell_type": "code",
      "metadata": {
        "id": "c-evBYfMoQm2"
      },
      "source": [
        "ieb_3=ieb(ieb_2)"
      ],
      "execution_count": 51,
      "outputs": []
    },
    {
      "cell_type": "code",
      "metadata": {
        "id": "sa6_PdBUoTYt"
      },
      "source": [
        "ieb_4=ieb(ieb_3)"
      ],
      "execution_count": 52,
      "outputs": []
    },
    {
      "cell_type": "code",
      "metadata": {
        "id": "3p78MoqyodOU"
      },
      "source": [
        "ieb_5=ieb(ieb_4)"
      ],
      "execution_count": 53,
      "outputs": []
    },
    {
      "cell_type": "code",
      "metadata": {
        "id": "cQcPd5NbpV8h"
      },
      "source": [
        "added_ieb=tf.keras.layers.Add()([ieb_1,ieb_2,ieb_3,ieb_4,ieb_5])"
      ],
      "execution_count": 54,
      "outputs": []
    },
    {
      "cell_type": "code",
      "metadata": {
        "id": "DsmqNCtzojJ3"
      },
      "source": [
        "impnet=tf.keras.layers.Conv2D(64,(3,3),activation='relu')(added_ieb)"
      ],
      "execution_count": 55,
      "outputs": []
    },
    {
      "cell_type": "code",
      "metadata": {
        "id": "JC7AyMLio50w"
      },
      "source": [
        "impnet=tf.keras.layers.Conv2D(16,(3,3),activation='relu')(impnet)"
      ],
      "execution_count": 56,
      "outputs": []
    },
    {
      "cell_type": "code",
      "metadata": {
        "id": "PRufKmb1qXs4"
      },
      "source": [
        "impnet=tf.keras.layers.Conv2D(3,(3,3),activation='relu')(impnet)"
      ],
      "execution_count": 57,
      "outputs": []
    },
    {
      "cell_type": "code",
      "metadata": {
        "id": "MEG13UI7qs0l"
      },
      "source": [
        "impnet=tf.keras.layers.Lambda(\n",
        "    lambda image: tf.compat.v1.image.resize_nearest_neighbor(image,\n",
        "                                                             (150,150))\n",
        ")(impnet)"
      ],
      "execution_count": 58,
      "outputs": []
    },
    {
      "cell_type": "code",
      "metadata": {
        "id": "K2pr2CJequhb",
        "outputId": "516dd98d-d880-446a-c0f8-604f3ffe4879",
        "colab": {
          "base_uri": "https://localhost:8080/",
          "height": 34
        }
      },
      "source": [
        "impnet"
      ],
      "execution_count": 59,
      "outputs": [
        {
          "output_type": "execute_result",
          "data": {
            "text/plain": [
              "<tf.Tensor 'lambda_67/ResizeNearestNeighbor:0' shape=(None, 150, 150, 3) dtype=float32>"
            ]
          },
          "metadata": {
            "tags": []
          },
          "execution_count": 59
        }
      ]
    },
    {
      "cell_type": "markdown",
      "metadata": {
        "id": "pW_1R0v4CdGe"
      },
      "source": [
        "# Correction Network"
      ]
    },
    {
      "cell_type": "code",
      "metadata": {
        "id": "4jPUCt4RrJ8b"
      },
      "source": [
        "def correction_network(input_feature):\n",
        "  conv1=tf.keras.layers.Conv2D(64,kernel_size=(3,3),strides=(1,1),activation='relu')(input_feature)\n",
        "  conv2=tf.keras.layers.Conv2D(64,kernel_size=(3,3),strides=(1,1),activation='relu')(conv1)\n",
        "  conv3=tf.keras.layers.Conv2D(32,kernel_size=(3,3),strides=(1,1),activation='relu')(conv2)\n",
        "  conv4=tf.keras.layers.Conv2D(32,kernel_size=(3,3),strides=(1,1),activation='relu')(conv3)\n",
        "  conv5=tf.keras.layers.Conv2D(3,kernel_size=(3,3),strides=(1,1),activation='relu')(conv4)\n",
        "  conv5=tf.keras.layers.Lambda(\n",
        "      lambda image:tf.compat.v1.image.resize_nearest_neighbor(\n",
        "          image,size=(150,150)\n",
        "      )\n",
        "  )(conv5)\n",
        "  return conv5"
      ],
      "execution_count": 60,
      "outputs": []
    },
    {
      "cell_type": "code",
      "metadata": {
        "id": "NptH968rEyrm"
      },
      "source": [
        ""
      ],
      "execution_count": 60,
      "outputs": []
    }
  ]
}
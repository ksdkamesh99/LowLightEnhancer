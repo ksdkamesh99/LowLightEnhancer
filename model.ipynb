{
  "nbformat": 4,
  "nbformat_minor": 0,
  "metadata": {
    "colab": {
      "name": "model.ipynb",
      "provenance": [],
      "mount_file_id": "1HicDJabC0xM8ihJjGDEK8NLIcWrq9hkk",
      "authorship_tag": "ABX9TyOthSyYXAsar4DEaeYVK+gs",
      "include_colab_link": true
    },
    "kernelspec": {
      "name": "python3",
      "display_name": "Python 3"
    },
    "accelerator": "GPU"
  },
  "cells": [
    {
      "cell_type": "markdown",
      "metadata": {
        "id": "view-in-github",
        "colab_type": "text"
      },
      "source": [
        "<a href=\"https://colab.research.google.com/github/ksdkamesh99/LowLightEnhancer/blob/master/model.ipynb\" target=\"_parent\"><img src=\"https://colab.research.google.com/assets/colab-badge.svg\" alt=\"Open In Colab\"/></a>"
      ]
    },
    {
      "cell_type": "code",
      "metadata": {
        "id": "a_YnKk4fWmVm",
        "outputId": "426e4647-36a9-4164-c6d4-abc52a319f13",
        "colab": {
          "base_uri": "https://localhost:8080/",
          "height": 34
        }
      },
      "source": [
        "cd /content/drive/My Drive/LowLightEnhancement"
      ],
      "execution_count": 1,
      "outputs": [
        {
          "output_type": "stream",
          "text": [
            "/content/drive/My Drive/LowLightEnhancement\n"
          ],
          "name": "stdout"
        }
      ]
    },
    {
      "cell_type": "code",
      "metadata": {
        "id": "vpHqtxxCV2pg"
      },
      "source": [
        "import tensorflow as tf\n",
        "import numpy as np\n",
        "from PIL import Image"
      ],
      "execution_count": 2,
      "outputs": []
    },
    {
      "cell_type": "code",
      "metadata": {
        "id": "5GKNxTenWMe9"
      },
      "source": [
        "img_high=np.load(\"image_high.npy\")"
      ],
      "execution_count": 3,
      "outputs": []
    },
    {
      "cell_type": "code",
      "metadata": {
        "id": "QK5SsO8AWwrF"
      },
      "source": [
        "img_low=np.load(\"image_low.npy\")"
      ],
      "execution_count": 4,
      "outputs": []
    },
    {
      "cell_type": "code",
      "metadata": {
        "id": "tM8PD-nLW2V8",
        "outputId": "21021ab4-a68e-4f07-94d8-5e6c2a9caefe",
        "colab": {
          "base_uri": "https://localhost:8080/",
          "height": 34
        }
      },
      "source": [
        "img_high.shape"
      ],
      "execution_count": 5,
      "outputs": [
        {
          "output_type": "execute_result",
          "data": {
            "text/plain": [
              "(1485, 150, 150, 3)"
            ]
          },
          "metadata": {
            "tags": []
          },
          "execution_count": 5
        }
      ]
    },
    {
      "cell_type": "markdown",
      "metadata": {
        "id": "QDic1QdxbVx3"
      },
      "source": [
        "## Illumination Mask Network"
      ]
    },
    {
      "cell_type": "code",
      "metadata": {
        "id": "Fp6MQbewW6yg"
      },
      "source": [
        "top_inp=tf.keras.layers.Input(shape=(150,150,3))\n",
        "top=tf.keras.layers.Conv2D(64,kernel_size=(3,3),input_shape=(150,150,3),activation='relu')(top_inp)\n",
        "top=tf.keras.layers.Conv2D(64,kernel_size=(3,3),activation='relu')(top)"
      ],
      "execution_count": 48,
      "outputs": []
    },
    {
      "cell_type": "code",
      "metadata": {
        "id": "WFrTH7Voeoa1"
      },
      "source": [
        "bottom_inp=tf.keras.layers.Input(shape=(150,150,3))\n",
        "bottom_resize=tf.keras.layers.Lambda( \n",
        "    lambda image: tf.compat.v1.image.resize_nearest_neighbor( \n",
        "        image, \n",
        "        (224, 224)\n",
        "    )\n",
        ")(bottom_inp)\n"
      ],
      "execution_count": 49,
      "outputs": []
    },
    {
      "cell_type": "code",
      "metadata": {
        "id": "wFYVu3v5euM0"
      },
      "source": [
        "bottom=tf.keras.layers.Conv2D(64,kernel_size=(3,3),input_shape=(224,224,3),activation='relu')(bottom_resize)\n",
        "bottom=tf.keras.layers.Conv2D(64,kernel_size=(3,3),activation='relu')(bottom)\n",
        "bottom=tf.keras.layers.Conv2D(64,kernel_size=(3,3),activation='relu')(bottom)\n",
        "bottom=tf.keras.layers.Lambda( \n",
        "    lambda image: tf.compat.v1.image.resize_nearest_neighbor( \n",
        "        image, \n",
        "        (146,146)\n",
        "    )\n",
        ")(bottom)"
      ],
      "execution_count": 50,
      "outputs": []
    },
    {
      "cell_type": "code",
      "metadata": {
        "id": "UysJ2KJ6hYNz",
        "outputId": "84209b26-9956-4a14-98d2-4bf7023999ec",
        "colab": {
          "base_uri": "https://localhost:8080/",
          "height": 34
        }
      },
      "source": [
        "bottom.get_shape()"
      ],
      "execution_count": 51,
      "outputs": [
        {
          "output_type": "execute_result",
          "data": {
            "text/plain": [
              "TensorShape([None, 146, 146, 64])"
            ]
          },
          "metadata": {
            "tags": []
          },
          "execution_count": 51
        }
      ]
    },
    {
      "cell_type": "code",
      "metadata": {
        "id": "-oBklAH3iLBT",
        "outputId": "024fc3e1-8ee3-4da6-b649-78e325943ca2",
        "colab": {
          "base_uri": "https://localhost:8080/",
          "height": 34
        }
      },
      "source": [
        "top.get_shape()"
      ],
      "execution_count": 52,
      "outputs": [
        {
          "output_type": "execute_result",
          "data": {
            "text/plain": [
              "TensorShape([None, 146, 146, 64])"
            ]
          },
          "metadata": {
            "tags": []
          },
          "execution_count": 52
        }
      ]
    },
    {
      "cell_type": "code",
      "metadata": {
        "id": "xE9AeLqLiNjq"
      },
      "source": [
        "merged=tf.keras.layers.concatenate([top,bottom],axis=-1)"
      ],
      "execution_count": 53,
      "outputs": []
    },
    {
      "cell_type": "code",
      "metadata": {
        "id": "8bUMJqgmi06Y"
      },
      "source": [
        "merged=tf.keras.layers.Conv2D(64,kernel_size=(3,3),activation='relu')(merged)\n",
        "merged=tf.keras.layers.Conv2D(64,kernel_size=(3,3),activation='relu')(merged)\n",
        "merged=tf.keras.layers.Conv2D(64,kernel_size=(3,3),activation='relu')(merged)"
      ],
      "execution_count": 54,
      "outputs": []
    },
    {
      "cell_type": "code",
      "metadata": {
        "id": "YfLuYpLSi2Bb",
        "outputId": "282881a5-2439-4517-94be-e1fb8c808f5a",
        "colab": {
          "base_uri": "https://localhost:8080/",
          "height": 34
        }
      },
      "source": [
        "merged.get_shape()"
      ],
      "execution_count": 55,
      "outputs": [
        {
          "output_type": "execute_result",
          "data": {
            "text/plain": [
              "TensorShape([None, 140, 140, 64])"
            ]
          },
          "metadata": {
            "tags": []
          },
          "execution_count": 55
        }
      ]
    },
    {
      "cell_type": "code",
      "metadata": {
        "id": "0KISCHprjQ0_"
      },
      "source": [
        "model_illumination_mask=tf.keras.models.Model(inputs=[top_inp,bottom_inp],outputs=merged)"
      ],
      "execution_count": 56,
      "outputs": []
    },
    {
      "cell_type": "code",
      "metadata": {
        "id": "ZVr8vme_jY6m",
        "outputId": "94bd0b8b-1278-4d82-99cd-31530760d284",
        "colab": {
          "base_uri": "https://localhost:8080/",
          "height": 605
        }
      },
      "source": [
        "model_illumination_mask.summary()"
      ],
      "execution_count": 57,
      "outputs": [
        {
          "output_type": "stream",
          "text": [
            "Model: \"functional_3\"\n",
            "__________________________________________________________________________________________________\n",
            "Layer (type)                    Output Shape         Param #     Connected to                     \n",
            "==================================================================================================\n",
            "input_4 (InputLayer)            [(None, 150, 150, 3) 0                                            \n",
            "__________________________________________________________________________________________________\n",
            "lambda_9 (Lambda)               (None, 224, 224, 3)  0           input_4[0][0]                    \n",
            "__________________________________________________________________________________________________\n",
            "conv2d_13 (Conv2D)              (None, 222, 222, 64) 1792        lambda_9[0][0]                   \n",
            "__________________________________________________________________________________________________\n",
            "input_3 (InputLayer)            [(None, 150, 150, 3) 0                                            \n",
            "__________________________________________________________________________________________________\n",
            "conv2d_14 (Conv2D)              (None, 220, 220, 64) 36928       conv2d_13[0][0]                  \n",
            "__________________________________________________________________________________________________\n",
            "conv2d_11 (Conv2D)              (None, 148, 148, 64) 1792        input_3[0][0]                    \n",
            "__________________________________________________________________________________________________\n",
            "conv2d_15 (Conv2D)              (None, 218, 218, 64) 36928       conv2d_14[0][0]                  \n",
            "__________________________________________________________________________________________________\n",
            "conv2d_12 (Conv2D)              (None, 146, 146, 64) 36928       conv2d_11[0][0]                  \n",
            "__________________________________________________________________________________________________\n",
            "lambda_10 (Lambda)              (None, 146, 146, 64) 0           conv2d_15[0][0]                  \n",
            "__________________________________________________________________________________________________\n",
            "concatenate_2 (Concatenate)     (None, 146, 146, 128 0           conv2d_12[0][0]                  \n",
            "                                                                 lambda_10[0][0]                  \n",
            "__________________________________________________________________________________________________\n",
            "conv2d_16 (Conv2D)              (None, 144, 144, 64) 73792       concatenate_2[0][0]              \n",
            "__________________________________________________________________________________________________\n",
            "conv2d_17 (Conv2D)              (None, 142, 142, 64) 36928       conv2d_16[0][0]                  \n",
            "__________________________________________________________________________________________________\n",
            "conv2d_18 (Conv2D)              (None, 140, 140, 64) 36928       conv2d_17[0][0]                  \n",
            "==================================================================================================\n",
            "Total params: 262,016\n",
            "Trainable params: 262,016\n",
            "Non-trainable params: 0\n",
            "__________________________________________________________________________________________________\n"
          ],
          "name": "stdout"
        }
      ]
    },
    {
      "cell_type": "markdown",
      "metadata": {
        "id": "vMmClQsdb1Os"
      },
      "source": [
        "# Illumination Map "
      ]
    },
    {
      "cell_type": "code",
      "metadata": {
        "id": "WqrZuRtCkT5E"
      },
      "source": [
        "merged=tf.keras.layers.Lambda( \n",
        "    lambda image: tf.compat.v1.image.resize_nearest_neighbor( \n",
        "        image, \n",
        "        (150,150)\n",
        "    )\n",
        ")(merged)"
      ],
      "execution_count": 58,
      "outputs": []
    },
    {
      "cell_type": "code",
      "metadata": {
        "id": "wsy6Q8eKflRV",
        "outputId": "581d0eef-1ac5-4d4f-b3e1-55a89e8f662d",
        "colab": {
          "base_uri": "https://localhost:8080/",
          "height": 34
        }
      },
      "source": [
        "merged.get_shape"
      ],
      "execution_count": 59,
      "outputs": [
        {
          "output_type": "execute_result",
          "data": {
            "text/plain": [
              "<bound method Tensor.get_shape of <tf.Tensor 'lambda_11/ResizeNearestNeighbor:0' shape=(None, 150, 150, 64) dtype=float32>>"
            ]
          },
          "metadata": {
            "tags": []
          },
          "execution_count": 59
        }
      ]
    },
    {
      "cell_type": "code",
      "metadata": {
        "id": "CKH46kzAgEPB"
      },
      "source": [
        "ieb1=tf.keras.layers.Conv2D(64,kernel_size=(3,3),activation='relu')(merged)\n",
        "ieb1=tf.keras.layers.Conv2D(64,kernel_size=(3,3),activation='relu')(ieb1)"
      ],
      "execution_count": 60,
      "outputs": []
    },
    {
      "cell_type": "code",
      "metadata": {
        "id": "QSZpQvRbkU6k",
        "outputId": "d63192c5-9574-496b-ad87-34801c342f1d",
        "colab": {
          "base_uri": "https://localhost:8080/",
          "height": 34
        }
      },
      "source": [
        "ieb1.get_shape"
      ],
      "execution_count": 61,
      "outputs": [
        {
          "output_type": "execute_result",
          "data": {
            "text/plain": [
              "<bound method Tensor.get_shape of <tf.Tensor 'conv2d_20/Relu:0' shape=(None, 146, 146, 64) dtype=float32>>"
            ]
          },
          "metadata": {
            "tags": []
          },
          "execution_count": 61
        }
      ]
    },
    {
      "cell_type": "code",
      "metadata": {
        "id": "bmnuOOEMlMmh"
      },
      "source": [
        "max_pool=tf.keras.layers.GlobalMaxPooling2D()(ieb1)"
      ],
      "execution_count": 62,
      "outputs": []
    },
    {
      "cell_type": "code",
      "metadata": {
        "id": "yCZOFhmsjI5l"
      },
      "source": [
        "avg_pool=tf.keras.layers.GlobalAveragePooling2D()(ieb1)"
      ],
      "execution_count": 63,
      "outputs": []
    },
    {
      "cell_type": "code",
      "metadata": {
        "id": "nKGMZVm-ifqE",
        "outputId": "4dd0cbcc-780e-417b-fdde-0d1be34824e6",
        "colab": {
          "base_uri": "https://localhost:8080/",
          "height": 34
        }
      },
      "source": [
        "max_pool.get_shape"
      ],
      "execution_count": 64,
      "outputs": [
        {
          "output_type": "execute_result",
          "data": {
            "text/plain": [
              "<bound method Tensor.get_shape of <tf.Tensor 'global_max_pooling2d_1/Max:0' shape=(None, 64) dtype=float32>>"
            ]
          },
          "metadata": {
            "tags": []
          },
          "execution_count": 64
        }
      ]
    },
    {
      "cell_type": "code",
      "metadata": {
        "id": "aYNcQBOrmFcL"
      },
      "source": [
        "dense1=tf.keras.layers.Dense(8,activation='relu',kernel_initializer='he_normal')\n",
        "dense2=tf.keras.layers.Dense(64,activation='sigmoid',kernel_initializer='he_normal')\n",
        "  "
      ],
      "execution_count": 65,
      "outputs": []
    },
    {
      "cell_type": "code",
      "metadata": {
        "id": "ouM4CkDWnUlj"
      },
      "source": [
        "max_pool=dense1(max_pool)\n",
        "max_pool=dense2(max_pool)\n",
        "\n",
        "avg_pool=dense1(avg_pool)\n",
        "avg_pool=dense2(avg_pool)"
      ],
      "execution_count": 66,
      "outputs": []
    },
    {
      "cell_type": "code",
      "metadata": {
        "id": "eroqvrbXndL1",
        "outputId": "8c42b450-42f5-4cfa-9eb2-1ae0fc101a0d",
        "colab": {
          "base_uri": "https://localhost:8080/",
          "height": 34
        }
      },
      "source": [
        "max_pool"
      ],
      "execution_count": 67,
      "outputs": [
        {
          "output_type": "execute_result",
          "data": {
            "text/plain": [
              "<tf.Tensor 'dense_3/Sigmoid:0' shape=(None, 64) dtype=float32>"
            ]
          },
          "metadata": {
            "tags": []
          },
          "execution_count": 67
        }
      ]
    },
    {
      "cell_type": "code",
      "metadata": {
        "id": "IjO1vqHGqXZC"
      },
      "source": [
        "max_pool=tf.keras.layers.Lambda(\n",
        "    lambda image: tf.expand_dims(tf.expand_dims(image,axis=1),axis=1)\n",
        ")(max_pool)\n",
        "avg_pool=tf.keras.layers.Lambda(\n",
        "    lambda image: tf.expand_dims(tf.expand_dims(image,axis=1),axis=1)\n",
        ")(avg_pool)"
      ],
      "execution_count": 68,
      "outputs": []
    },
    {
      "cell_type": "code",
      "metadata": {
        "id": "IPl9CQ_mrKs_",
        "outputId": "9c1f7b8b-5218-4d3a-c7f7-1e1ea615f19d",
        "colab": {
          "base_uri": "https://localhost:8080/",
          "height": 34
        }
      },
      "source": [
        "max_pool.get_shape"
      ],
      "execution_count": 69,
      "outputs": [
        {
          "output_type": "execute_result",
          "data": {
            "text/plain": [
              "<bound method Tensor.get_shape of <tf.Tensor 'lambda_12/ExpandDims_1:0' shape=(None, 1, 1, 64) dtype=float32>>"
            ]
          },
          "metadata": {
            "tags": []
          },
          "execution_count": 69
        }
      ]
    },
    {
      "cell_type": "code",
      "metadata": {
        "id": "9GwsT7kuuYGK"
      },
      "source": [
        "channel=tf.keras.layers.Add()([max_pool,avg_pool])"
      ],
      "execution_count": 70,
      "outputs": []
    },
    {
      "cell_type": "code",
      "metadata": {
        "id": "XEeKH6mgDBIV",
        "outputId": "88a052aa-0a9d-45dd-f893-aa6a78b12bc1",
        "colab": {
          "base_uri": "https://localhost:8080/",
          "height": 34
        }
      },
      "source": [
        "channel"
      ],
      "execution_count": 71,
      "outputs": [
        {
          "output_type": "execute_result",
          "data": {
            "text/plain": [
              "<tf.Tensor 'add_1/add:0' shape=(None, 1, 1, 64) dtype=float32>"
            ]
          },
          "metadata": {
            "tags": []
          },
          "execution_count": 71
        }
      ]
    },
    {
      "cell_type": "code",
      "metadata": {
        "id": "F_De03TMDNne"
      },
      "source": [
        "ieb1=tf.keras.layers.Multiply()([ieb1,channel])"
      ],
      "execution_count": 72,
      "outputs": []
    },
    {
      "cell_type": "code",
      "metadata": {
        "id": "ay-yd_5gDeVN",
        "outputId": "4afdcd4c-54eb-4f3b-c499-17dbbf890e4e",
        "colab": {
          "base_uri": "https://localhost:8080/",
          "height": 34
        }
      },
      "source": [
        "ieb1"
      ],
      "execution_count": 73,
      "outputs": [
        {
          "output_type": "execute_result",
          "data": {
            "text/plain": [
              "<tf.Tensor 'multiply_4/mul:0' shape=(None, 146, 146, 64) dtype=float32>"
            ]
          },
          "metadata": {
            "tags": []
          },
          "execution_count": 73
        }
      ]
    },
    {
      "cell_type": "code",
      "metadata": {
        "id": "CFRjqkVQDiSP"
      },
      "source": [
        "max_pool_s=tf.keras.layers.Lambda(\n",
        "    lambda x: tf.keras.backend.max(x,axis=3,keepdims=True)\n",
        ")(ieb1)\n",
        "avg_pool_s=tf.keras.layers.Lambda(\n",
        "    lambda x: tf.keras.backend.mean(x,axis=3,keepdims=True)\n",
        ")(ieb1)"
      ],
      "execution_count": 74,
      "outputs": []
    },
    {
      "cell_type": "code",
      "metadata": {
        "id": "EYGPr_PKJNhe"
      },
      "source": [
        "concat_slayers=tf.keras.layers.Concatenate(axis=3)([avg_pool_s,max_pool_s])"
      ],
      "execution_count": 75,
      "outputs": []
    },
    {
      "cell_type": "code",
      "metadata": {
        "id": "FB4KGSYEJwVd"
      },
      "source": [
        "spacial=tf.keras.layers.Conv2D(1,7,activation='sigmoid')(concat_slayers)"
      ],
      "execution_count": 76,
      "outputs": []
    },
    {
      "cell_type": "code",
      "metadata": {
        "id": "04tcKn2xKZdW",
        "outputId": "11993199-ef04-4ba9-c921-63d948197f4d",
        "colab": {
          "base_uri": "https://localhost:8080/",
          "height": 34
        }
      },
      "source": [
        "spacial"
      ],
      "execution_count": 77,
      "outputs": [
        {
          "output_type": "execute_result",
          "data": {
            "text/plain": [
              "<tf.Tensor 'conv2d_21/Sigmoid:0' shape=(None, 140, 140, 1) dtype=float32>"
            ]
          },
          "metadata": {
            "tags": []
          },
          "execution_count": 77
        }
      ]
    },
    {
      "cell_type": "code",
      "metadata": {
        "id": "51Gsyu-rhr-b"
      },
      "source": [
        "spacial=tf.keras.layers.Lambda( \n",
        "    lambda image: tf.compat.v1.image.resize_nearest_neighbor( \n",
        "        image, \n",
        "        (146,146)\n",
        "    )\n",
        ")(spacial)"
      ],
      "execution_count": 78,
      "outputs": []
    },
    {
      "cell_type": "code",
      "metadata": {
        "id": "WEH9hkvmKb0k"
      },
      "source": [
        "ieb1=tf.keras.layers.Multiply()([ieb1,spacial])"
      ],
      "execution_count": 79,
      "outputs": []
    },
    {
      "cell_type": "code",
      "metadata": {
        "id": "4sYQglaShgrw",
        "outputId": "1363fe47-2c13-4a8d-8318-9cf5ac1c8bfa",
        "colab": {
          "base_uri": "https://localhost:8080/",
          "height": 34
        }
      },
      "source": [
        "ieb1"
      ],
      "execution_count": 80,
      "outputs": [
        {
          "output_type": "execute_result",
          "data": {
            "text/plain": [
              "<tf.Tensor 'multiply_5/mul:0' shape=(None, 146, 146, 64) dtype=float32>"
            ]
          },
          "metadata": {
            "tags": []
          },
          "execution_count": 80
        }
      ]
    },
    {
      "cell_type": "code",
      "metadata": {
        "id": "r5UkP6ggh8FM"
      },
      "source": [
        "ieb1=tf.keras.layers.BatchNormalization()(ieb1)"
      ],
      "execution_count": 81,
      "outputs": []
    },
    {
      "cell_type": "code",
      "metadata": {
        "id": "6aWRnBwGiECi"
      },
      "source": [
        "ieb1=tf.keras.layers.Activation('relu')(ieb1)"
      ],
      "execution_count": 82,
      "outputs": []
    },
    {
      "cell_type": "code",
      "metadata": {
        "id": "ET5eOx1-iRhj"
      },
      "source": [
        "ieb1=tf.keras.layers.Lambda(\n",
        "    lambda image: tf.compat.v1.image.resize_nearest_neighbor(image,(150,150))\n",
        ")(ieb1)"
      ],
      "execution_count": 83,
      "outputs": []
    },
    {
      "cell_type": "code",
      "metadata": {
        "id": "cs_nFq6FiSkX",
        "outputId": "dc0cc9a2-1329-46ad-9f9e-18de698ecea3",
        "colab": {
          "base_uri": "https://localhost:8080/",
          "height": 34
        }
      },
      "source": [
        "ieb1"
      ],
      "execution_count": 84,
      "outputs": [
        {
          "output_type": "execute_result",
          "data": {
            "text/plain": [
              "<tf.Tensor 'lambda_17/ResizeNearestNeighbor:0' shape=(None, 150, 150, 64) dtype=float32>"
            ]
          },
          "metadata": {
            "tags": []
          },
          "execution_count": 84
        }
      ]
    },
    {
      "cell_type": "code",
      "metadata": {
        "id": "5JtkldWeivGV"
      },
      "source": [
        ""
      ],
      "execution_count": 84,
      "outputs": []
    }
  ]
}
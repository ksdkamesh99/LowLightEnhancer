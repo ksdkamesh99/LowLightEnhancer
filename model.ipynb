{
  "nbformat": 4,
  "nbformat_minor": 0,
  "metadata": {
    "colab": {
      "name": "model.ipynb",
      "provenance": [],
      "toc_visible": true,
      "mount_file_id": "1HicDJabC0xM8ihJjGDEK8NLIcWrq9hkk",
      "authorship_tag": "ABX9TyNsLPJMyRtcA2B8RPkM5097",
      "include_colab_link": true
    },
    "kernelspec": {
      "name": "python3",
      "display_name": "Python 3"
    },
    "accelerator": "GPU"
  },
  "cells": [
    {
      "cell_type": "markdown",
      "metadata": {
        "id": "view-in-github",
        "colab_type": "text"
      },
      "source": [
        "<a href=\"https://colab.research.google.com/github/ksdkamesh99/LowLightEnhancer/blob/master/model.ipynb\" target=\"_parent\"><img src=\"https://colab.research.google.com/assets/colab-badge.svg\" alt=\"Open In Colab\"/></a>"
      ]
    },
    {
      "cell_type": "code",
      "metadata": {
        "id": "a_YnKk4fWmVm",
        "outputId": "de118142-fcbd-4327-bca3-56fd4fcd7ff7",
        "colab": {
          "base_uri": "https://localhost:8080/",
          "height": 34
        }
      },
      "source": [
        "cd /content/drive/My Drive/LowLightEnhancement"
      ],
      "execution_count": 1,
      "outputs": [
        {
          "output_type": "stream",
          "text": [
            "/content/drive/My Drive/LowLightEnhancement\n"
          ],
          "name": "stdout"
        }
      ]
    },
    {
      "cell_type": "code",
      "metadata": {
        "id": "vpHqtxxCV2pg"
      },
      "source": [
        "import tensorflow as tf\n",
        "import numpy as np\n",
        "from PIL import Image"
      ],
      "execution_count": 2,
      "outputs": []
    },
    {
      "cell_type": "code",
      "metadata": {
        "id": "5GKNxTenWMe9"
      },
      "source": [
        "img_high=np.load(\"image_high.npy\")"
      ],
      "execution_count": 3,
      "outputs": []
    },
    {
      "cell_type": "code",
      "metadata": {
        "id": "QK5SsO8AWwrF"
      },
      "source": [
        "img_low=np.load(\"image_low.npy\")"
      ],
      "execution_count": 4,
      "outputs": []
    },
    {
      "cell_type": "code",
      "metadata": {
        "id": "tM8PD-nLW2V8",
        "outputId": "f548fbb6-0504-41f8-9a4b-fb0c1ff9cabb",
        "colab": {
          "base_uri": "https://localhost:8080/",
          "height": 34
        }
      },
      "source": [
        "img_high.shape"
      ],
      "execution_count": 5,
      "outputs": [
        {
          "output_type": "execute_result",
          "data": {
            "text/plain": [
              "(1485, 150, 150, 3)"
            ]
          },
          "metadata": {
            "tags": []
          },
          "execution_count": 5
        }
      ]
    },
    {
      "cell_type": "markdown",
      "metadata": {
        "id": "QDic1QdxbVx3"
      },
      "source": [
        "## Illumination Mask Network"
      ]
    },
    {
      "cell_type": "code",
      "metadata": {
        "id": "7GKb-un3gbPF"
      },
      "source": [
        "input_layer=tf.keras.layers.Input(shape=(150,150,3))"
      ],
      "execution_count": 44,
      "outputs": []
    },
    {
      "cell_type": "code",
      "metadata": {
        "id": "Fp6MQbewW6yg"
      },
      "source": [
        "top_inp=input_layer\n",
        "top=tf.keras.layers.Conv2D(64,kernel_size=(3,3),input_shape=(150,150,3),activation='relu')(top_inp)\n",
        "top=tf.keras.layers.Conv2D(64,kernel_size=(3,3),activation='relu')(top)"
      ],
      "execution_count": 45,
      "outputs": []
    },
    {
      "cell_type": "code",
      "metadata": {
        "id": "WFrTH7Voeoa1"
      },
      "source": [
        "bottom_inp=input_layer\n",
        "bottom_resize=tf.keras.layers.Lambda( \n",
        "    lambda image: tf.compat.v1.image.resize_nearest_neighbor( \n",
        "        image, \n",
        "        (224, 224)\n",
        "    )\n",
        ")(bottom_inp)\n"
      ],
      "execution_count": 46,
      "outputs": []
    },
    {
      "cell_type": "code",
      "metadata": {
        "id": "wFYVu3v5euM0"
      },
      "source": [
        "bottom=tf.keras.layers.Conv2D(64,kernel_size=(3,3),input_shape=(224,224,3),activation='relu')(bottom_resize)\n",
        "bottom=tf.keras.layers.Conv2D(64,kernel_size=(3,3),activation='relu')(bottom)\n",
        "bottom=tf.keras.layers.Conv2D(64,kernel_size=(3,3),activation='relu')(bottom)\n",
        "bottom=tf.keras.layers.Lambda( \n",
        "    lambda image: tf.compat.v1.image.resize_nearest_neighbor( \n",
        "        image, \n",
        "        (146,146)\n",
        "    )\n",
        ")(bottom)"
      ],
      "execution_count": 47,
      "outputs": []
    },
    {
      "cell_type": "code",
      "metadata": {
        "id": "UysJ2KJ6hYNz",
        "outputId": "f969b2b6-aa26-4cb0-c4e3-2335c9e00733",
        "colab": {
          "base_uri": "https://localhost:8080/",
          "height": 34
        }
      },
      "source": [
        "bottom.get_shape()"
      ],
      "execution_count": 48,
      "outputs": [
        {
          "output_type": "execute_result",
          "data": {
            "text/plain": [
              "TensorShape([None, 146, 146, 64])"
            ]
          },
          "metadata": {
            "tags": []
          },
          "execution_count": 48
        }
      ]
    },
    {
      "cell_type": "code",
      "metadata": {
        "id": "-oBklAH3iLBT",
        "outputId": "563a0e46-5bfb-45f0-f3fc-53d1fe69c04c",
        "colab": {
          "base_uri": "https://localhost:8080/",
          "height": 34
        }
      },
      "source": [
        "top.get_shape()"
      ],
      "execution_count": 49,
      "outputs": [
        {
          "output_type": "execute_result",
          "data": {
            "text/plain": [
              "TensorShape([None, 146, 146, 64])"
            ]
          },
          "metadata": {
            "tags": []
          },
          "execution_count": 49
        }
      ]
    },
    {
      "cell_type": "code",
      "metadata": {
        "id": "xE9AeLqLiNjq"
      },
      "source": [
        "merged=tf.keras.layers.concatenate([top,bottom],axis=-1)"
      ],
      "execution_count": 50,
      "outputs": []
    },
    {
      "cell_type": "code",
      "metadata": {
        "id": "8bUMJqgmi06Y"
      },
      "source": [
        "merged=tf.keras.layers.Conv2D(64,kernel_size=(3,3),activation='relu')(merged)\n",
        "merged=tf.keras.layers.Conv2D(16,kernel_size=(3,3),activation='relu')(merged)\n",
        "merged=tf.keras.layers.Conv2D(3,kernel_size=(3,3),activation='relu')(merged)"
      ],
      "execution_count": 51,
      "outputs": []
    },
    {
      "cell_type": "code",
      "metadata": {
        "id": "YfLuYpLSi2Bb",
        "outputId": "78bca435-f875-423d-f319-b11f6bb1ddea",
        "colab": {
          "base_uri": "https://localhost:8080/",
          "height": 34
        }
      },
      "source": [
        "merged.get_shape()"
      ],
      "execution_count": 52,
      "outputs": [
        {
          "output_type": "execute_result",
          "data": {
            "text/plain": [
              "TensorShape([None, 140, 140, 3])"
            ]
          },
          "metadata": {
            "tags": []
          },
          "execution_count": 52
        }
      ]
    },
    {
      "cell_type": "code",
      "metadata": {
        "id": "0KISCHprjQ0_"
      },
      "source": [
        "model_illumination_mask=tf.keras.models.Model(inputs=input_layer,outputs=merged)"
      ],
      "execution_count": 53,
      "outputs": []
    },
    {
      "cell_type": "code",
      "metadata": {
        "id": "ZVr8vme_jY6m",
        "outputId": "19f4305c-f725-4638-cf6f-b887860aaa68",
        "colab": {
          "base_uri": "https://localhost:8080/",
          "height": 571
        }
      },
      "source": [
        "model_illumination_mask.summary()"
      ],
      "execution_count": 54,
      "outputs": [
        {
          "output_type": "stream",
          "text": [
            "Model: \"functional_3\"\n",
            "__________________________________________________________________________________________________\n",
            "Layer (type)                    Output Shape         Param #     Connected to                     \n",
            "==================================================================================================\n",
            "input_2 (InputLayer)            [(None, 150, 150, 3) 0                                            \n",
            "__________________________________________________________________________________________________\n",
            "lambda_43 (Lambda)              (None, 224, 224, 3)  0           input_2[0][0]                    \n",
            "__________________________________________________________________________________________________\n",
            "conv2d_33 (Conv2D)              (None, 222, 222, 64) 1792        lambda_43[0][0]                  \n",
            "__________________________________________________________________________________________________\n",
            "conv2d_34 (Conv2D)              (None, 220, 220, 64) 36928       conv2d_33[0][0]                  \n",
            "__________________________________________________________________________________________________\n",
            "conv2d_31 (Conv2D)              (None, 148, 148, 64) 1792        input_2[0][0]                    \n",
            "__________________________________________________________________________________________________\n",
            "conv2d_35 (Conv2D)              (None, 218, 218, 64) 36928       conv2d_34[0][0]                  \n",
            "__________________________________________________________________________________________________\n",
            "conv2d_32 (Conv2D)              (None, 146, 146, 64) 36928       conv2d_31[0][0]                  \n",
            "__________________________________________________________________________________________________\n",
            "lambda_44 (Lambda)              (None, 146, 146, 64) 0           conv2d_35[0][0]                  \n",
            "__________________________________________________________________________________________________\n",
            "concatenate_7 (Concatenate)     (None, 146, 146, 128 0           conv2d_32[0][0]                  \n",
            "                                                                 lambda_44[0][0]                  \n",
            "__________________________________________________________________________________________________\n",
            "conv2d_36 (Conv2D)              (None, 144, 144, 64) 73792       concatenate_7[0][0]              \n",
            "__________________________________________________________________________________________________\n",
            "conv2d_37 (Conv2D)              (None, 142, 142, 16) 9232        conv2d_36[0][0]                  \n",
            "__________________________________________________________________________________________________\n",
            "conv2d_38 (Conv2D)              (None, 140, 140, 3)  435         conv2d_37[0][0]                  \n",
            "==================================================================================================\n",
            "Total params: 197,827\n",
            "Trainable params: 197,827\n",
            "Non-trainable params: 0\n",
            "__________________________________________________________________________________________________\n"
          ],
          "name": "stdout"
        }
      ]
    },
    {
      "cell_type": "markdown",
      "metadata": {
        "id": "vMmClQsdb1Os"
      },
      "source": [
        "# Illumination Map "
      ]
    },
    {
      "cell_type": "code",
      "metadata": {
        "id": "WqrZuRtCkT5E"
      },
      "source": [
        "merged=tf.keras.layers.Lambda( \n",
        "    lambda image: tf.compat.v1.image.resize_nearest_neighbor( \n",
        "        image,\n",
        "        (150,150)\n",
        "    )\n",
        ")(merged)"
      ],
      "execution_count": 55,
      "outputs": []
    },
    {
      "cell_type": "code",
      "metadata": {
        "id": "wsy6Q8eKflRV",
        "outputId": "39726928-33c7-4577-d4cf-ec5da3368f4f",
        "colab": {
          "base_uri": "https://localhost:8080/",
          "height": 34
        }
      },
      "source": [
        "merged.get_shape"
      ],
      "execution_count": 56,
      "outputs": [
        {
          "output_type": "execute_result",
          "data": {
            "text/plain": [
              "<bound method Tensor.get_shape of <tf.Tensor 'lambda_45/ResizeNearestNeighbor:0' shape=(None, 150, 150, 3) dtype=float32>>"
            ]
          },
          "metadata": {
            "tags": []
          },
          "execution_count": 56
        }
      ]
    },
    {
      "cell_type": "code",
      "metadata": {
        "id": "8mc6wmEYhL2a"
      },
      "source": [
        "merged=tf.keras.layers.Concatenate()([input_layer,merged])"
      ],
      "execution_count": 57,
      "outputs": []
    },
    {
      "cell_type": "code",
      "metadata": {
        "id": "8dk7Ho8Oh7Zv",
        "outputId": "6f41adea-b202-4084-ecb6-906e42fe2680",
        "colab": {
          "base_uri": "https://localhost:8080/",
          "height": 34
        }
      },
      "source": [
        "merged"
      ],
      "execution_count": 58,
      "outputs": [
        {
          "output_type": "execute_result",
          "data": {
            "text/plain": [
              "<tf.Tensor 'concatenate_8/concat:0' shape=(None, 150, 150, 6) dtype=float32>"
            ]
          },
          "metadata": {
            "tags": []
          },
          "execution_count": 58
        }
      ]
    },
    {
      "cell_type": "code",
      "metadata": {
        "id": "Ji0GvexEjmey"
      },
      "source": [
        "def ieb(input_feature):\n",
        "  ieb1=tf.keras.layers.Conv2D(64,kernel_size=(3,3),activation='relu')(input_feature)\n",
        "  ieb1=tf.keras.layers.Conv2D(64,kernel_size=(3,3),activation='relu')(ieb1)\n",
        "  max_pool=tf.keras.layers.GlobalMaxPooling2D()(ieb1)\n",
        "  avg_pool=tf.keras.layers.GlobalAveragePooling2D()(ieb1)\n",
        "  dense1=tf.keras.layers.Dense(8,activation='relu',kernel_initializer='he_normal')\n",
        "  dense2=tf.keras.layers.Dense(64,activation='sigmoid',kernel_initializer='he_normal')\n",
        "  max_pool=dense1(max_pool)\n",
        "  max_pool=dense2(max_pool)\n",
        "  avg_pool=dense1(avg_pool)\n",
        "  avg_pool=dense2(avg_pool)\n",
        "  max_pool=tf.keras.layers.Lambda(\n",
        "    lambda image: tf.expand_dims(tf.expand_dims(image,axis=1),axis=1))(max_pool)\n",
        "  avg_pool=tf.keras.layers.Lambda(\n",
        "    lambda image: tf.expand_dims(tf.expand_dims(image,axis=1),axis=1))(avg_pool)\n",
        "  channel=tf.keras.layers.Add()([max_pool,avg_pool])\n",
        "  ieb1=tf.keras.layers.Multiply()([ieb1,channel])\n",
        "  max_pool_s=tf.keras.layers.Lambda(\n",
        "    lambda x: tf.keras.backend.max(x,axis=3,keepdims=True))(ieb1)\n",
        "  avg_pool_s=tf.keras.layers.Lambda(\n",
        "    lambda x: tf.keras.backend.mean(x,axis=3,keepdims=True))(ieb1)\n",
        "  concat_slayers=tf.keras.layers.Concatenate(axis=3)([avg_pool_s,max_pool_s])\n",
        "  spacial=tf.keras.layers.Conv2D(1,7,activation='sigmoid')(concat_slayers)\n",
        "  spacial=tf.keras.layers.Lambda( \n",
        "    lambda image: tf.compat.v1.image.resize_nearest_neighbor( \n",
        "        image, \n",
        "        (146,146)\n",
        "    ))(spacial)\n",
        "  ieb1=tf.keras.layers.Multiply()([ieb1,spacial])\n",
        "  ieb1=tf.keras.layers.BatchNormalization()(ieb1)\n",
        "  ieb1=tf.keras.layers.Activation('relu')(ieb1)\n",
        "  ieb1=tf.keras.layers.Lambda(\n",
        "    lambda image: tf.compat.v1.image.resize_nearest_neighbor(image,(150,150)))(ieb1)\n",
        "  return ieb1\n",
        "\n",
        "\n",
        "  \n",
        "\n"
      ],
      "execution_count": 59,
      "outputs": []
    },
    {
      "cell_type": "code",
      "metadata": {
        "id": "60ZDXV1qn3dx"
      },
      "source": [
        "ieb_1=ieb(merged)"
      ],
      "execution_count": 60,
      "outputs": []
    },
    {
      "cell_type": "code",
      "metadata": {
        "id": "_om_rsynoISE"
      },
      "source": [
        "ieb_2=ieb(ieb_1)"
      ],
      "execution_count": 61,
      "outputs": []
    },
    {
      "cell_type": "code",
      "metadata": {
        "id": "c-evBYfMoQm2"
      },
      "source": [
        "ieb_3=ieb(ieb_2)"
      ],
      "execution_count": 62,
      "outputs": []
    },
    {
      "cell_type": "code",
      "metadata": {
        "id": "sa6_PdBUoTYt"
      },
      "source": [
        "ieb_4=ieb(ieb_3)"
      ],
      "execution_count": 63,
      "outputs": []
    },
    {
      "cell_type": "code",
      "metadata": {
        "id": "3p78MoqyodOU"
      },
      "source": [
        "ieb_5=ieb(ieb_4)"
      ],
      "execution_count": 64,
      "outputs": []
    },
    {
      "cell_type": "code",
      "metadata": {
        "id": "cQcPd5NbpV8h"
      },
      "source": [
        "added_ieb=tf.keras.layers.Add()([ieb_1,ieb_2,ieb_3,ieb_4,ieb_5])"
      ],
      "execution_count": 65,
      "outputs": []
    },
    {
      "cell_type": "code",
      "metadata": {
        "id": "DsmqNCtzojJ3"
      },
      "source": [
        "impnet=tf.keras.layers.Conv2D(64,(3,3),activation='relu')(added_ieb)"
      ],
      "execution_count": 66,
      "outputs": []
    },
    {
      "cell_type": "code",
      "metadata": {
        "id": "JC7AyMLio50w"
      },
      "source": [
        "impnet=tf.keras.layers.Conv2D(16,(3,3),activation='relu')(impnet)"
      ],
      "execution_count": 67,
      "outputs": []
    },
    {
      "cell_type": "code",
      "metadata": {
        "id": "PRufKmb1qXs4"
      },
      "source": [
        "impnet=tf.keras.layers.Conv2D(3,(3,3),activation='relu')(impnet)"
      ],
      "execution_count": 68,
      "outputs": []
    },
    {
      "cell_type": "code",
      "metadata": {
        "id": "MEG13UI7qs0l"
      },
      "source": [
        "impnet=tf.keras.layers.Lambda(\n",
        "    lambda image: tf.compat.v1.image.resize_nearest_neighbor(image,\n",
        "                                                             (150,150))\n",
        ")(impnet)"
      ],
      "execution_count": 69,
      "outputs": []
    },
    {
      "cell_type": "code",
      "metadata": {
        "id": "K2pr2CJequhb",
        "outputId": "d1e45dc5-fd15-472f-b527-bb12b13be2c0",
        "colab": {
          "base_uri": "https://localhost:8080/",
          "height": 34
        }
      },
      "source": [
        "impnet"
      ],
      "execution_count": 70,
      "outputs": [
        {
          "output_type": "execute_result",
          "data": {
            "text/plain": [
              "<tf.Tensor 'lambda_76/ResizeNearestNeighbor:0' shape=(None, 150, 150, 3) dtype=float32>"
            ]
          },
          "metadata": {
            "tags": []
          },
          "execution_count": 70
        }
      ]
    },
    {
      "cell_type": "markdown",
      "metadata": {
        "id": "4VYnEsMH0Csg"
      },
      "source": [
        "# S/L Block "
      ]
    },
    {
      "cell_type": "code",
      "metadata": {
        "id": "1C1alUSK2aYH"
      },
      "source": [
        "impnet=tf.keras.layers.Lambda(\n",
        "    lambda x: x+tf.keras.backend.constant(0.01)\n",
        ")(impnet)"
      ],
      "execution_count": 73,
      "outputs": []
    },
    {
      "cell_type": "code",
      "metadata": {
        "id": "H9t5JSBf0Hm2"
      },
      "source": [
        "s_l=tf.keras.layers.Lambda(\n",
        "    lambda input:(input[0])/(input[1])\n",
        ")([input_layer,impnet])"
      ],
      "execution_count": 74,
      "outputs": []
    },
    {
      "cell_type": "code",
      "metadata": {
        "id": "tOiIZy9z2GDX",
        "outputId": "8a00132b-c213-4a61-d66e-4bbfa2432b42",
        "colab": {
          "base_uri": "https://localhost:8080/",
          "height": 34
        }
      },
      "source": [
        "s_l"
      ],
      "execution_count": 75,
      "outputs": [
        {
          "output_type": "execute_result",
          "data": {
            "text/plain": [
              "<tf.Tensor 'lambda_79/truediv:0' shape=(None, 150, 150, 3) dtype=float32>"
            ]
          },
          "metadata": {
            "tags": []
          },
          "execution_count": 75
        }
      ]
    },
    {
      "cell_type": "markdown",
      "metadata": {
        "id": "pW_1R0v4CdGe"
      },
      "source": [
        "# Correction Network"
      ]
    },
    {
      "cell_type": "code",
      "metadata": {
        "id": "4jPUCt4RrJ8b"
      },
      "source": [
        "def correction_network(input_feature):\n",
        "  conv1=tf.keras.layers.Conv2D(64,kernel_size=(3,3),strides=(1,1),activation='relu')(input_feature)\n",
        "  conv2=tf.keras.layers.Conv2D(64,kernel_size=(3,3),strides=(1,1),activation='relu')(conv1)\n",
        "  conv3=tf.keras.layers.Conv2D(32,kernel_size=(3,3),strides=(1,1),activation='relu')(conv2)\n",
        "  conv4=tf.keras.layers.Conv2D(32,kernel_size=(3,3),strides=(1,1),activation='relu')(conv3)\n",
        "  conv5=tf.keras.layers.Conv2D(3,kernel_size=(3,3),strides=(1,1),activation='relu')(conv4)\n",
        "  conv5=tf.keras.layers.Lambda(\n",
        "      lambda image:tf.compat.v1.image.resize_nearest_neighbor(\n",
        "          image,size=(150,150)\n",
        "      )\n",
        "  )(conv5)\n",
        "  return conv5"
      ],
      "execution_count": 76,
      "outputs": []
    },
    {
      "cell_type": "code",
      "metadata": {
        "id": "NptH968rEyrm"
      },
      "source": [
        "final_output=correction_network(s_l)"
      ],
      "execution_count": 77,
      "outputs": []
    },
    {
      "cell_type": "markdown",
      "metadata": {
        "id": "15nBh2bV3Ecy"
      },
      "source": [
        "# Model"
      ]
    },
    {
      "cell_type": "code",
      "metadata": {
        "id": "W-1aYMZU2H-D"
      },
      "source": [
        "model=tf.keras.models.Model(inputs=input_layer,outputs=final_output)"
      ],
      "execution_count": 80,
      "outputs": []
    },
    {
      "cell_type": "code",
      "metadata": {
        "id": "oufR4Epz3R4F",
        "outputId": "c65e54d9-aa4e-479f-a8db-7b1bd2751f36",
        "colab": {
          "base_uri": "https://localhost:8080/",
          "height": 1000
        }
      },
      "source": [
        "model.summary()"
      ],
      "execution_count": 81,
      "outputs": [
        {
          "output_type": "stream",
          "text": [
            "Model: \"functional_7\"\n",
            "__________________________________________________________________________________________________\n",
            "Layer (type)                    Output Shape         Param #     Connected to                     \n",
            "==================================================================================================\n",
            "input_2 (InputLayer)            [(None, 150, 150, 3) 0                                            \n",
            "__________________________________________________________________________________________________\n",
            "lambda_43 (Lambda)              (None, 224, 224, 3)  0           input_2[0][0]                    \n",
            "__________________________________________________________________________________________________\n",
            "conv2d_33 (Conv2D)              (None, 222, 222, 64) 1792        lambda_43[0][0]                  \n",
            "__________________________________________________________________________________________________\n",
            "conv2d_34 (Conv2D)              (None, 220, 220, 64) 36928       conv2d_33[0][0]                  \n",
            "__________________________________________________________________________________________________\n",
            "conv2d_31 (Conv2D)              (None, 148, 148, 64) 1792        input_2[0][0]                    \n",
            "__________________________________________________________________________________________________\n",
            "conv2d_35 (Conv2D)              (None, 218, 218, 64) 36928       conv2d_34[0][0]                  \n",
            "__________________________________________________________________________________________________\n",
            "conv2d_32 (Conv2D)              (None, 146, 146, 64) 36928       conv2d_31[0][0]                  \n",
            "__________________________________________________________________________________________________\n",
            "lambda_44 (Lambda)              (None, 146, 146, 64) 0           conv2d_35[0][0]                  \n",
            "__________________________________________________________________________________________________\n",
            "concatenate_7 (Concatenate)     (None, 146, 146, 128 0           conv2d_32[0][0]                  \n",
            "                                                                 lambda_44[0][0]                  \n",
            "__________________________________________________________________________________________________\n",
            "conv2d_36 (Conv2D)              (None, 144, 144, 64) 73792       concatenate_7[0][0]              \n",
            "__________________________________________________________________________________________________\n",
            "conv2d_37 (Conv2D)              (None, 142, 142, 16) 9232        conv2d_36[0][0]                  \n",
            "__________________________________________________________________________________________________\n",
            "conv2d_38 (Conv2D)              (None, 140, 140, 3)  435         conv2d_37[0][0]                  \n",
            "__________________________________________________________________________________________________\n",
            "lambda_45 (Lambda)              (None, 150, 150, 3)  0           conv2d_38[0][0]                  \n",
            "__________________________________________________________________________________________________\n",
            "concatenate_8 (Concatenate)     (None, 150, 150, 6)  0           input_2[0][0]                    \n",
            "                                                                 lambda_45[0][0]                  \n",
            "__________________________________________________________________________________________________\n",
            "conv2d_39 (Conv2D)              (None, 148, 148, 64) 3520        concatenate_8[0][0]              \n",
            "__________________________________________________________________________________________________\n",
            "conv2d_40 (Conv2D)              (None, 146, 146, 64) 36928       conv2d_39[0][0]                  \n",
            "__________________________________________________________________________________________________\n",
            "global_max_pooling2d_5 (GlobalM (None, 64)           0           conv2d_40[0][0]                  \n",
            "__________________________________________________________________________________________________\n",
            "global_average_pooling2d_5 (Glo (None, 64)           0           conv2d_40[0][0]                  \n",
            "__________________________________________________________________________________________________\n",
            "dense_10 (Dense)                (None, 8)            520         global_max_pooling2d_5[0][0]     \n",
            "                                                                 global_average_pooling2d_5[0][0] \n",
            "__________________________________________________________________________________________________\n",
            "dense_11 (Dense)                (None, 64)           576         dense_10[0][0]                   \n",
            "                                                                 dense_10[1][0]                   \n",
            "__________________________________________________________________________________________________\n",
            "lambda_46 (Lambda)              (None, 1, 1, 64)     0           dense_11[0][0]                   \n",
            "__________________________________________________________________________________________________\n",
            "lambda_47 (Lambda)              (None, 1, 1, 64)     0           dense_11[1][0]                   \n",
            "__________________________________________________________________________________________________\n",
            "add_6 (Add)                     (None, 1, 1, 64)     0           lambda_46[0][0]                  \n",
            "                                                                 lambda_47[0][0]                  \n",
            "__________________________________________________________________________________________________\n",
            "multiply_10 (Multiply)          (None, 146, 146, 64) 0           conv2d_40[0][0]                  \n",
            "                                                                 add_6[0][0]                      \n",
            "__________________________________________________________________________________________________\n",
            "lambda_49 (Lambda)              (None, 146, 146, 1)  0           multiply_10[0][0]                \n",
            "__________________________________________________________________________________________________\n",
            "lambda_48 (Lambda)              (None, 146, 146, 1)  0           multiply_10[0][0]                \n",
            "__________________________________________________________________________________________________\n",
            "concatenate_9 (Concatenate)     (None, 146, 146, 2)  0           lambda_49[0][0]                  \n",
            "                                                                 lambda_48[0][0]                  \n",
            "__________________________________________________________________________________________________\n",
            "conv2d_41 (Conv2D)              (None, 140, 140, 1)  99          concatenate_9[0][0]              \n",
            "__________________________________________________________________________________________________\n",
            "lambda_50 (Lambda)              (None, 146, 146, 1)  0           conv2d_41[0][0]                  \n",
            "__________________________________________________________________________________________________\n",
            "multiply_11 (Multiply)          (None, 146, 146, 64) 0           multiply_10[0][0]                \n",
            "                                                                 lambda_50[0][0]                  \n",
            "__________________________________________________________________________________________________\n",
            "batch_normalization_5 (BatchNor (None, 146, 146, 64) 256         multiply_11[0][0]                \n",
            "__________________________________________________________________________________________________\n",
            "activation_5 (Activation)       (None, 146, 146, 64) 0           batch_normalization_5[0][0]      \n",
            "__________________________________________________________________________________________________\n",
            "lambda_51 (Lambda)              (None, 150, 150, 64) 0           activation_5[0][0]               \n",
            "__________________________________________________________________________________________________\n",
            "conv2d_42 (Conv2D)              (None, 148, 148, 64) 36928       lambda_51[0][0]                  \n",
            "__________________________________________________________________________________________________\n",
            "conv2d_43 (Conv2D)              (None, 146, 146, 64) 36928       conv2d_42[0][0]                  \n",
            "__________________________________________________________________________________________________\n",
            "global_max_pooling2d_6 (GlobalM (None, 64)           0           conv2d_43[0][0]                  \n",
            "__________________________________________________________________________________________________\n",
            "global_average_pooling2d_6 (Glo (None, 64)           0           conv2d_43[0][0]                  \n",
            "__________________________________________________________________________________________________\n",
            "dense_12 (Dense)                (None, 8)            520         global_max_pooling2d_6[0][0]     \n",
            "                                                                 global_average_pooling2d_6[0][0] \n",
            "__________________________________________________________________________________________________\n",
            "dense_13 (Dense)                (None, 64)           576         dense_12[0][0]                   \n",
            "                                                                 dense_12[1][0]                   \n",
            "__________________________________________________________________________________________________\n",
            "lambda_52 (Lambda)              (None, 1, 1, 64)     0           dense_13[0][0]                   \n",
            "__________________________________________________________________________________________________\n",
            "lambda_53 (Lambda)              (None, 1, 1, 64)     0           dense_13[1][0]                   \n",
            "__________________________________________________________________________________________________\n",
            "add_7 (Add)                     (None, 1, 1, 64)     0           lambda_52[0][0]                  \n",
            "                                                                 lambda_53[0][0]                  \n",
            "__________________________________________________________________________________________________\n",
            "multiply_12 (Multiply)          (None, 146, 146, 64) 0           conv2d_43[0][0]                  \n",
            "                                                                 add_7[0][0]                      \n",
            "__________________________________________________________________________________________________\n",
            "lambda_55 (Lambda)              (None, 146, 146, 1)  0           multiply_12[0][0]                \n",
            "__________________________________________________________________________________________________\n",
            "lambda_54 (Lambda)              (None, 146, 146, 1)  0           multiply_12[0][0]                \n",
            "__________________________________________________________________________________________________\n",
            "concatenate_10 (Concatenate)    (None, 146, 146, 2)  0           lambda_55[0][0]                  \n",
            "                                                                 lambda_54[0][0]                  \n",
            "__________________________________________________________________________________________________\n",
            "conv2d_44 (Conv2D)              (None, 140, 140, 1)  99          concatenate_10[0][0]             \n",
            "__________________________________________________________________________________________________\n",
            "lambda_56 (Lambda)              (None, 146, 146, 1)  0           conv2d_44[0][0]                  \n",
            "__________________________________________________________________________________________________\n",
            "multiply_13 (Multiply)          (None, 146, 146, 64) 0           multiply_12[0][0]                \n",
            "                                                                 lambda_56[0][0]                  \n",
            "__________________________________________________________________________________________________\n",
            "batch_normalization_6 (BatchNor (None, 146, 146, 64) 256         multiply_13[0][0]                \n",
            "__________________________________________________________________________________________________\n",
            "activation_6 (Activation)       (None, 146, 146, 64) 0           batch_normalization_6[0][0]      \n",
            "__________________________________________________________________________________________________\n",
            "lambda_57 (Lambda)              (None, 150, 150, 64) 0           activation_6[0][0]               \n",
            "__________________________________________________________________________________________________\n",
            "conv2d_45 (Conv2D)              (None, 148, 148, 64) 36928       lambda_57[0][0]                  \n",
            "__________________________________________________________________________________________________\n",
            "conv2d_46 (Conv2D)              (None, 146, 146, 64) 36928       conv2d_45[0][0]                  \n",
            "__________________________________________________________________________________________________\n",
            "global_max_pooling2d_7 (GlobalM (None, 64)           0           conv2d_46[0][0]                  \n",
            "__________________________________________________________________________________________________\n",
            "global_average_pooling2d_7 (Glo (None, 64)           0           conv2d_46[0][0]                  \n",
            "__________________________________________________________________________________________________\n",
            "dense_14 (Dense)                (None, 8)            520         global_max_pooling2d_7[0][0]     \n",
            "                                                                 global_average_pooling2d_7[0][0] \n",
            "__________________________________________________________________________________________________\n",
            "dense_15 (Dense)                (None, 64)           576         dense_14[0][0]                   \n",
            "                                                                 dense_14[1][0]                   \n",
            "__________________________________________________________________________________________________\n",
            "lambda_58 (Lambda)              (None, 1, 1, 64)     0           dense_15[0][0]                   \n",
            "__________________________________________________________________________________________________\n",
            "lambda_59 (Lambda)              (None, 1, 1, 64)     0           dense_15[1][0]                   \n",
            "__________________________________________________________________________________________________\n",
            "add_8 (Add)                     (None, 1, 1, 64)     0           lambda_58[0][0]                  \n",
            "                                                                 lambda_59[0][0]                  \n",
            "__________________________________________________________________________________________________\n",
            "multiply_14 (Multiply)          (None, 146, 146, 64) 0           conv2d_46[0][0]                  \n",
            "                                                                 add_8[0][0]                      \n",
            "__________________________________________________________________________________________________\n",
            "lambda_61 (Lambda)              (None, 146, 146, 1)  0           multiply_14[0][0]                \n",
            "__________________________________________________________________________________________________\n",
            "lambda_60 (Lambda)              (None, 146, 146, 1)  0           multiply_14[0][0]                \n",
            "__________________________________________________________________________________________________\n",
            "concatenate_11 (Concatenate)    (None, 146, 146, 2)  0           lambda_61[0][0]                  \n",
            "                                                                 lambda_60[0][0]                  \n",
            "__________________________________________________________________________________________________\n",
            "conv2d_47 (Conv2D)              (None, 140, 140, 1)  99          concatenate_11[0][0]             \n",
            "__________________________________________________________________________________________________\n",
            "lambda_62 (Lambda)              (None, 146, 146, 1)  0           conv2d_47[0][0]                  \n",
            "__________________________________________________________________________________________________\n",
            "multiply_15 (Multiply)          (None, 146, 146, 64) 0           multiply_14[0][0]                \n",
            "                                                                 lambda_62[0][0]                  \n",
            "__________________________________________________________________________________________________\n",
            "batch_normalization_7 (BatchNor (None, 146, 146, 64) 256         multiply_15[0][0]                \n",
            "__________________________________________________________________________________________________\n",
            "activation_7 (Activation)       (None, 146, 146, 64) 0           batch_normalization_7[0][0]      \n",
            "__________________________________________________________________________________________________\n",
            "lambda_63 (Lambda)              (None, 150, 150, 64) 0           activation_7[0][0]               \n",
            "__________________________________________________________________________________________________\n",
            "conv2d_48 (Conv2D)              (None, 148, 148, 64) 36928       lambda_63[0][0]                  \n",
            "__________________________________________________________________________________________________\n",
            "conv2d_49 (Conv2D)              (None, 146, 146, 64) 36928       conv2d_48[0][0]                  \n",
            "__________________________________________________________________________________________________\n",
            "global_max_pooling2d_8 (GlobalM (None, 64)           0           conv2d_49[0][0]                  \n",
            "__________________________________________________________________________________________________\n",
            "global_average_pooling2d_8 (Glo (None, 64)           0           conv2d_49[0][0]                  \n",
            "__________________________________________________________________________________________________\n",
            "dense_16 (Dense)                (None, 8)            520         global_max_pooling2d_8[0][0]     \n",
            "                                                                 global_average_pooling2d_8[0][0] \n",
            "__________________________________________________________________________________________________\n",
            "dense_17 (Dense)                (None, 64)           576         dense_16[0][0]                   \n",
            "                                                                 dense_16[1][0]                   \n",
            "__________________________________________________________________________________________________\n",
            "lambda_64 (Lambda)              (None, 1, 1, 64)     0           dense_17[0][0]                   \n",
            "__________________________________________________________________________________________________\n",
            "lambda_65 (Lambda)              (None, 1, 1, 64)     0           dense_17[1][0]                   \n",
            "__________________________________________________________________________________________________\n",
            "add_9 (Add)                     (None, 1, 1, 64)     0           lambda_64[0][0]                  \n",
            "                                                                 lambda_65[0][0]                  \n",
            "__________________________________________________________________________________________________\n",
            "multiply_16 (Multiply)          (None, 146, 146, 64) 0           conv2d_49[0][0]                  \n",
            "                                                                 add_9[0][0]                      \n",
            "__________________________________________________________________________________________________\n",
            "lambda_67 (Lambda)              (None, 146, 146, 1)  0           multiply_16[0][0]                \n",
            "__________________________________________________________________________________________________\n",
            "lambda_66 (Lambda)              (None, 146, 146, 1)  0           multiply_16[0][0]                \n",
            "__________________________________________________________________________________________________\n",
            "concatenate_12 (Concatenate)    (None, 146, 146, 2)  0           lambda_67[0][0]                  \n",
            "                                                                 lambda_66[0][0]                  \n",
            "__________________________________________________________________________________________________\n",
            "conv2d_50 (Conv2D)              (None, 140, 140, 1)  99          concatenate_12[0][0]             \n",
            "__________________________________________________________________________________________________\n",
            "lambda_68 (Lambda)              (None, 146, 146, 1)  0           conv2d_50[0][0]                  \n",
            "__________________________________________________________________________________________________\n",
            "multiply_17 (Multiply)          (None, 146, 146, 64) 0           multiply_16[0][0]                \n",
            "                                                                 lambda_68[0][0]                  \n",
            "__________________________________________________________________________________________________\n",
            "batch_normalization_8 (BatchNor (None, 146, 146, 64) 256         multiply_17[0][0]                \n",
            "__________________________________________________________________________________________________\n",
            "activation_8 (Activation)       (None, 146, 146, 64) 0           batch_normalization_8[0][0]      \n",
            "__________________________________________________________________________________________________\n",
            "lambda_69 (Lambda)              (None, 150, 150, 64) 0           activation_8[0][0]               \n",
            "__________________________________________________________________________________________________\n",
            "conv2d_51 (Conv2D)              (None, 148, 148, 64) 36928       lambda_69[0][0]                  \n",
            "__________________________________________________________________________________________________\n",
            "conv2d_52 (Conv2D)              (None, 146, 146, 64) 36928       conv2d_51[0][0]                  \n",
            "__________________________________________________________________________________________________\n",
            "global_max_pooling2d_9 (GlobalM (None, 64)           0           conv2d_52[0][0]                  \n",
            "__________________________________________________________________________________________________\n",
            "global_average_pooling2d_9 (Glo (None, 64)           0           conv2d_52[0][0]                  \n",
            "__________________________________________________________________________________________________\n",
            "dense_18 (Dense)                (None, 8)            520         global_max_pooling2d_9[0][0]     \n",
            "                                                                 global_average_pooling2d_9[0][0] \n",
            "__________________________________________________________________________________________________\n",
            "dense_19 (Dense)                (None, 64)           576         dense_18[0][0]                   \n",
            "                                                                 dense_18[1][0]                   \n",
            "__________________________________________________________________________________________________\n",
            "lambda_70 (Lambda)              (None, 1, 1, 64)     0           dense_19[0][0]                   \n",
            "__________________________________________________________________________________________________\n",
            "lambda_71 (Lambda)              (None, 1, 1, 64)     0           dense_19[1][0]                   \n",
            "__________________________________________________________________________________________________\n",
            "add_10 (Add)                    (None, 1, 1, 64)     0           lambda_70[0][0]                  \n",
            "                                                                 lambda_71[0][0]                  \n",
            "__________________________________________________________________________________________________\n",
            "multiply_18 (Multiply)          (None, 146, 146, 64) 0           conv2d_52[0][0]                  \n",
            "                                                                 add_10[0][0]                     \n",
            "__________________________________________________________________________________________________\n",
            "lambda_73 (Lambda)              (None, 146, 146, 1)  0           multiply_18[0][0]                \n",
            "__________________________________________________________________________________________________\n",
            "lambda_72 (Lambda)              (None, 146, 146, 1)  0           multiply_18[0][0]                \n",
            "__________________________________________________________________________________________________\n",
            "concatenate_13 (Concatenate)    (None, 146, 146, 2)  0           lambda_73[0][0]                  \n",
            "                                                                 lambda_72[0][0]                  \n",
            "__________________________________________________________________________________________________\n",
            "conv2d_53 (Conv2D)              (None, 140, 140, 1)  99          concatenate_13[0][0]             \n",
            "__________________________________________________________________________________________________\n",
            "lambda_74 (Lambda)              (None, 146, 146, 1)  0           conv2d_53[0][0]                  \n",
            "__________________________________________________________________________________________________\n",
            "multiply_19 (Multiply)          (None, 146, 146, 64) 0           multiply_18[0][0]                \n",
            "                                                                 lambda_74[0][0]                  \n",
            "__________________________________________________________________________________________________\n",
            "batch_normalization_9 (BatchNor (None, 146, 146, 64) 256         multiply_19[0][0]                \n",
            "__________________________________________________________________________________________________\n",
            "activation_9 (Activation)       (None, 146, 146, 64) 0           batch_normalization_9[0][0]      \n",
            "__________________________________________________________________________________________________\n",
            "lambda_75 (Lambda)              (None, 150, 150, 64) 0           activation_9[0][0]               \n",
            "__________________________________________________________________________________________________\n",
            "add_11 (Add)                    (None, 150, 150, 64) 0           lambda_51[0][0]                  \n",
            "                                                                 lambda_57[0][0]                  \n",
            "                                                                 lambda_63[0][0]                  \n",
            "                                                                 lambda_69[0][0]                  \n",
            "                                                                 lambda_75[0][0]                  \n",
            "__________________________________________________________________________________________________\n",
            "conv2d_54 (Conv2D)              (None, 148, 148, 64) 36928       add_11[0][0]                     \n",
            "__________________________________________________________________________________________________\n",
            "conv2d_55 (Conv2D)              (None, 146, 146, 16) 9232        conv2d_54[0][0]                  \n",
            "__________________________________________________________________________________________________\n",
            "conv2d_56 (Conv2D)              (None, 144, 144, 3)  435         conv2d_55[0][0]                  \n",
            "__________________________________________________________________________________________________\n",
            "lambda_76 (Lambda)              (None, 150, 150, 3)  0           conv2d_56[0][0]                  \n",
            "__________________________________________________________________________________________________\n",
            "lambda_78 (Lambda)              (None, 150, 150, 3)  0           lambda_76[0][0]                  \n",
            "__________________________________________________________________________________________________\n",
            "lambda_79 (Lambda)              (None, 150, 150, 3)  0           input_2[0][0]                    \n",
            "                                                                 lambda_78[0][0]                  \n",
            "__________________________________________________________________________________________________\n",
            "conv2d_57 (Conv2D)              (None, 148, 148, 64) 1792        lambda_79[0][0]                  \n",
            "__________________________________________________________________________________________________\n",
            "conv2d_58 (Conv2D)              (None, 146, 146, 64) 36928       conv2d_57[0][0]                  \n",
            "__________________________________________________________________________________________________\n",
            "conv2d_59 (Conv2D)              (None, 144, 144, 32) 18464       conv2d_58[0][0]                  \n",
            "__________________________________________________________________________________________________\n",
            "conv2d_60 (Conv2D)              (None, 142, 142, 32) 9248        conv2d_59[0][0]                  \n",
            "__________________________________________________________________________________________________\n",
            "conv2d_61 (Conv2D)              (None, 140, 140, 3)  867         conv2d_60[0][0]                  \n",
            "__________________________________________________________________________________________________\n",
            "lambda_80 (Lambda)              (None, 150, 150, 3)  0           conv2d_61[0][0]                  \n",
            "==================================================================================================\n",
            "Total params: 654,848\n",
            "Trainable params: 654,208\n",
            "Non-trainable params: 640\n",
            "__________________________________________________________________________________________________\n"
          ],
          "name": "stdout"
        }
      ]
    },
    {
      "cell_type": "code",
      "metadata": {
        "id": "LTFNjv_L3ykC"
      },
      "source": [
        ""
      ],
      "execution_count": null,
      "outputs": []
    }
  ]
}
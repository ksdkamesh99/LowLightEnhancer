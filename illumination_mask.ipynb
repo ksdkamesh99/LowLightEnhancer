{
  "nbformat": 4,
  "nbformat_minor": 0,
  "metadata": {
    "colab": {
      "name": "illumination_mask.ipynb",
      "provenance": [],
      "mount_file_id": "1HicDJabC0xM8ihJjGDEK8NLIcWrq9hkk",
      "authorship_tag": "ABX9TyPyZuSYDYRmbTCQelfRQ2IK",
      "include_colab_link": true
    },
    "kernelspec": {
      "name": "python3",
      "display_name": "Python 3"
    },
    "accelerator": "GPU"
  },
  "cells": [
    {
      "cell_type": "markdown",
      "metadata": {
        "id": "view-in-github",
        "colab_type": "text"
      },
      "source": [
        "<a href=\"https://colab.research.google.com/github/ksdkamesh99/LowLightEnhancer/blob/master/illumination_mask.ipynb\" target=\"_parent\"><img src=\"https://colab.research.google.com/assets/colab-badge.svg\" alt=\"Open In Colab\"/></a>"
      ]
    },
    {
      "cell_type": "code",
      "metadata": {
        "id": "a_YnKk4fWmVm",
        "outputId": "dc9b295a-240e-4e95-babb-d93f303995f1",
        "colab": {
          "base_uri": "https://localhost:8080/",
          "height": 34
        }
      },
      "source": [
        "cd /content/drive/My Drive/LowLightEnhancement"
      ],
      "execution_count": 10,
      "outputs": [
        {
          "output_type": "stream",
          "text": [
            "/content/drive/My Drive/LowLightEnhancement\n"
          ],
          "name": "stdout"
        }
      ]
    },
    {
      "cell_type": "code",
      "metadata": {
        "id": "vpHqtxxCV2pg"
      },
      "source": [
        "import tensorflow as tf\n",
        "import numpy as np\n",
        "from PIL import Image"
      ],
      "execution_count": 11,
      "outputs": []
    },
    {
      "cell_type": "code",
      "metadata": {
        "id": "5GKNxTenWMe9"
      },
      "source": [
        "img_high=np.load(\"image_high.npy\")"
      ],
      "execution_count": 12,
      "outputs": []
    },
    {
      "cell_type": "code",
      "metadata": {
        "id": "QK5SsO8AWwrF"
      },
      "source": [
        "img_low=np.load(\"image_low.npy\")"
      ],
      "execution_count": 13,
      "outputs": []
    },
    {
      "cell_type": "code",
      "metadata": {
        "id": "tM8PD-nLW2V8",
        "outputId": "f1ce798d-853c-4762-b173-7801a0e56d8d",
        "colab": {
          "base_uri": "https://localhost:8080/",
          "height": 34
        }
      },
      "source": [
        "img_high.shape"
      ],
      "execution_count": 14,
      "outputs": [
        {
          "output_type": "execute_result",
          "data": {
            "text/plain": [
              "(1485, 150, 150, 3)"
            ]
          },
          "metadata": {
            "tags": []
          },
          "execution_count": 14
        }
      ]
    },
    {
      "cell_type": "code",
      "metadata": {
        "id": "Fp6MQbewW6yg"
      },
      "source": [
        "top_inp=tf.keras.layers.Input(shape=(150,150,3))\n",
        "top=tf.keras.layers.Conv2D(64,kernel_size=(3,3),input_shape=(150,150,3),activation='relu')(top_inp)\n",
        "top=tf.keras.layers.Conv2D(64,kernel_size=(3,3),activation='relu')(top)"
      ],
      "execution_count": 19,
      "outputs": []
    },
    {
      "cell_type": "code",
      "metadata": {
        "id": "WFrTH7Voeoa1"
      },
      "source": [
        "bottom_inp=tf.keras.layers.Input(shape=(150,150,3))\n",
        "bottom_resize=tf.keras.layers.Lambda( \n",
        "    lambda image: tf.compat.v1.image.resize_nearest_neighbor( \n",
        "        image, \n",
        "        (224, 224)\n",
        "    )\n",
        ")(bottom_inp)\n"
      ],
      "execution_count": 28,
      "outputs": []
    },
    {
      "cell_type": "code",
      "metadata": {
        "id": "wFYVu3v5euM0"
      },
      "source": [
        "bottom=tf.keras.layers.Conv2D(64,kernel_size=(3,3),input_shape=(224,224,3),activation='relu')(bottom_resize)\n",
        "bottom=tf.keras.layers.Conv2D(64,kernel_size=(3,3),activation='relu')(bottom)\n",
        "bottom=tf.keras.layers.Conv2D(64,kernel_size=(3,3),activation='relu')(bottom)\n",
        "bottom=tf.keras.layers.Lambda( \n",
        "    lambda image: tf.compat.v1.image.resize_nearest_neighbor( \n",
        "        image, \n",
        "        (146,146)\n",
        "    )\n",
        ")(bottom)"
      ],
      "execution_count": 33,
      "outputs": []
    },
    {
      "cell_type": "code",
      "metadata": {
        "id": "UysJ2KJ6hYNz",
        "outputId": "f6416cda-8a92-4a72-c808-22cdeb005a14",
        "colab": {
          "base_uri": "https://localhost:8080/",
          "height": 34
        }
      },
      "source": [
        "bottom.get_shape()"
      ],
      "execution_count": 34,
      "outputs": [
        {
          "output_type": "execute_result",
          "data": {
            "text/plain": [
              "TensorShape([None, 146, 146, 64])"
            ]
          },
          "metadata": {
            "tags": []
          },
          "execution_count": 34
        }
      ]
    },
    {
      "cell_type": "code",
      "metadata": {
        "id": "-oBklAH3iLBT",
        "outputId": "81972589-7b66-4dde-9bc8-a4b812544798",
        "colab": {
          "base_uri": "https://localhost:8080/",
          "height": 34
        }
      },
      "source": [
        "top.get_shape()"
      ],
      "execution_count": 35,
      "outputs": [
        {
          "output_type": "execute_result",
          "data": {
            "text/plain": [
              "TensorShape([None, 146, 146, 64])"
            ]
          },
          "metadata": {
            "tags": []
          },
          "execution_count": 35
        }
      ]
    },
    {
      "cell_type": "code",
      "metadata": {
        "id": "xE9AeLqLiNjq"
      },
      "source": [
        "merged=tf.keras.layers.concatenate([top,bottom],axis=-1)"
      ],
      "execution_count": 39,
      "outputs": []
    },
    {
      "cell_type": "code",
      "metadata": {
        "id": "8bUMJqgmi06Y"
      },
      "source": [
        "merged=tf.keras.layers.Conv2D(64,kernel_size=(3,3),activation='relu')(merged)\n",
        "merged=tf.keras.layers.Conv2D(64,kernel_size=(3,3),activation='relu')(merged)\n",
        "merged=tf.keras.layers.Conv2D(64,kernel_size=(3,3),activation='relu')(merged)"
      ],
      "execution_count": 40,
      "outputs": []
    },
    {
      "cell_type": "code",
      "metadata": {
        "id": "YfLuYpLSi2Bb",
        "outputId": "a9bd2570-f5a0-4668-86a8-894ed5190f87",
        "colab": {
          "base_uri": "https://localhost:8080/",
          "height": 34
        }
      },
      "source": [
        "merged.get_shape()"
      ],
      "execution_count": 41,
      "outputs": [
        {
          "output_type": "execute_result",
          "data": {
            "text/plain": [
              "TensorShape([None, 140, 140, 64])"
            ]
          },
          "metadata": {
            "tags": []
          },
          "execution_count": 41
        }
      ]
    },
    {
      "cell_type": "code",
      "metadata": {
        "id": "0KISCHprjQ0_"
      },
      "source": [
        "model=tf.keras.models.Model(inputs=[top_inp,bottom_inp],outputs=merged)"
      ],
      "execution_count": 45,
      "outputs": []
    },
    {
      "cell_type": "code",
      "metadata": {
        "id": "ZVr8vme_jY6m",
        "outputId": "d8900ea5-4ef8-491e-eee6-189eea76a97b",
        "colab": {
          "base_uri": "https://localhost:8080/",
          "height": 605
        }
      },
      "source": [
        "model.summary()"
      ],
      "execution_count": 46,
      "outputs": [
        {
          "output_type": "stream",
          "text": [
            "Model: \"functional_1\"\n",
            "__________________________________________________________________________________________________\n",
            "Layer (type)                    Output Shape         Param #     Connected to                     \n",
            "==================================================================================================\n",
            "input_8 (InputLayer)            [(None, 150, 150, 3) 0                                            \n",
            "__________________________________________________________________________________________________\n",
            "lambda_6 (Lambda)               (None, 224, 224, 3)  0           input_8[0][0]                    \n",
            "__________________________________________________________________________________________________\n",
            "conv2d_9 (Conv2D)               (None, 222, 222, 64) 1792        lambda_6[0][0]                   \n",
            "__________________________________________________________________________________________________\n",
            "input_1 (InputLayer)            [(None, 150, 150, 3) 0                                            \n",
            "__________________________________________________________________________________________________\n",
            "conv2d_10 (Conv2D)              (None, 220, 220, 64) 36928       conv2d_9[0][0]                   \n",
            "__________________________________________________________________________________________________\n",
            "conv2d_3 (Conv2D)               (None, 148, 148, 64) 1792        input_1[0][0]                    \n",
            "__________________________________________________________________________________________________\n",
            "conv2d_11 (Conv2D)              (None, 218, 218, 64) 36928       conv2d_10[0][0]                  \n",
            "__________________________________________________________________________________________________\n",
            "conv2d_4 (Conv2D)               (None, 146, 146, 64) 36928       conv2d_3[0][0]                   \n",
            "__________________________________________________________________________________________________\n",
            "lambda_7 (Lambda)               (None, 146, 146, 64) 0           conv2d_11[0][0]                  \n",
            "__________________________________________________________________________________________________\n",
            "concatenate_1 (Concatenate)     (None, 146, 146, 128 0           conv2d_4[0][0]                   \n",
            "                                                                 lambda_7[0][0]                   \n",
            "__________________________________________________________________________________________________\n",
            "conv2d_13 (Conv2D)              (None, 144, 144, 64) 73792       concatenate_1[0][0]              \n",
            "__________________________________________________________________________________________________\n",
            "conv2d_14 (Conv2D)              (None, 142, 142, 64) 36928       conv2d_13[0][0]                  \n",
            "__________________________________________________________________________________________________\n",
            "conv2d_15 (Conv2D)              (None, 140, 140, 64) 36928       conv2d_14[0][0]                  \n",
            "==================================================================================================\n",
            "Total params: 262,016\n",
            "Trainable params: 262,016\n",
            "Non-trainable params: 0\n",
            "__________________________________________________________________________________________________\n"
          ],
          "name": "stdout"
        }
      ]
    },
    {
      "cell_type": "code",
      "metadata": {
        "id": "WqrZuRtCkT5E"
      },
      "source": [
        ""
      ],
      "execution_count": null,
      "outputs": []
    }
  ]
}